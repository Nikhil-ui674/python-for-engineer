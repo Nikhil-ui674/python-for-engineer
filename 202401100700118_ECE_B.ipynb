{
  "nbformat": 4,
  "nbformat_minor": 0,
  "metadata": {
    "colab": {
      "provenance": []
    },
    "kernelspec": {
      "name": "python3",
      "display_name": "Python 3"
    },
    "language_info": {
      "name": "python"
    }
  },
  "cells": [
    {
      "cell_type": "code",
      "execution_count": 1,
      "metadata": {
        "colab": {
          "base_uri": "https://localhost:8080/"
        },
        "id": "0ot6leiYjSRt",
        "outputId": "d00eb6fc-34c5-4cdd-d7a9-8be1ab0e7d25"
      },
      "outputs": [
        {
          "output_type": "stream",
          "name": "stdout",
          "text": [
            "Current temperature: 24.58°C\n",
            "Current temperature: 26.04°C\n",
            "Current temperature: 23.59°C\n",
            "Current temperature: 25.99°C\n",
            "Current temperature: 24.15°C\n",
            "Current temperature: 24.40°C\n",
            "Current temperature: 25.14°C\n",
            "Current temperature: 23.75°C\n",
            "Current temperature: 25.71°C\n",
            "Current temperature: 23.84°C\n",
            "Current temperature: 23.80°C\n",
            "Current temperature: 24.04°C\n",
            "\n",
            "Monitoring stopped.\n"
          ]
        }
      ],
      "source": [
        "import random\n",
        "import time\n",
        "\n",
        "def maintain_temperature(target_temp, tolerance=1.0):\n",
        "  \"\"\"\n",
        "  Maintains a simulated temperature within a specified range and provides alerts.\n",
        "\n",
        "  Args:\n",
        "    target_temp: The desired temperature.\n",
        "    tolerance: The acceptable temperature deviation from the target.\n",
        "  \"\"\"\n",
        "\n",
        "  current_temp = target_temp + random.uniform(-tolerance, tolerance)\n",
        "\n",
        "  if abs(current_temp - target_temp) > tolerance:\n",
        "    print(f\"Alert! Temperature outside tolerance: {current_temp:.2f}°C\")\n",
        "  else:\n",
        "    print(f\"Current temperature: {current_temp:.2f}°C\")\n",
        "\n",
        "# Example Usage\n",
        "target_temperature = 25.0  # Desired temperature in Celsius\n",
        "tolerance = 1.5  # Acceptable temperature deviation\n",
        "\n",
        "try:\n",
        "  while True:\n",
        "    maintain_temperature(target_temperature, tolerance)\n",
        "    time.sleep(1)  # Simulate continuous monitoring\n",
        "except KeyboardInterrupt:\n",
        "  print(\"\\nMonitoring stopped.\")\n"
      ]
    }
  ]
}